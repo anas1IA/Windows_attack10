{
  "nbformat": 4,
  "nbformat_minor": 0,
  "metadata": {
    "colab": {
      "provenance": [],
      "authorship_tag": "ABX9TyPKLm6J6JENKuThV4cMWnHB",
      "include_colab_link": true
    },
    "kernelspec": {
      "name": "python3",
      "display_name": "Python 3"
    },
    "language_info": {
      "name": "python"
    }
  },
  "cells": [
    {
      "cell_type": "markdown",
      "metadata": {
        "id": "view-in-github",
        "colab_type": "text"
      },
      "source": [
        "<a href=\"https://colab.research.google.com/github/anas1IA/Windows_attack10/blob/main/project/TON_IoT_Attack_Windows.ipynb\" target=\"_parent\"><img src=\"https://colab.research.google.com/assets/colab-badge.svg\" alt=\"Open In Colab\"/></a>"
      ]
    },
    {
      "cell_type": "markdown",
      "source": [
        "# TON-IoT Attack Windows 10"
      ],
      "metadata": {
        "id": "OBI-GIh2pDMB"
      }
    },
    {
      "cell_type": "markdown",
      "source": [
        "## Understand the Dataset :"
      ],
      "metadata": {
        "id": "IQoiixbaqFuJ"
      }
    },
    {
      "cell_type": "markdown",
      "source": [
        "### Get info about it :"
      ],
      "metadata": {
        "id": "Ep87RrroqZHI"
      }
    },
    {
      "cell_type": "markdown",
      "source": [
        "### Exploratory Data Analysis (EDA):"
      ],
      "metadata": {
        "id": "mzg2wXtpp-vh"
      }
    },
    {
      "cell_type": "markdown",
      "source": [
        "## Data Cleaning and Preprocessing :\n",
        "\n"
      ],
      "metadata": {
        "id": "ramfIOItpMn8"
      }
    },
    {
      "cell_type": "markdown",
      "source": [
        "### Handle missing values, outliers, and inconsistencies in the data."
      ],
      "metadata": {
        "id": "Jm6g2BiupvIM"
      }
    },
    {
      "cell_type": "markdown",
      "source": [
        "### Convert data types and handle categorical variables.\n"
      ],
      "metadata": {
        "id": "FM2AMNXHpjiB"
      }
    },
    {
      "cell_type": "markdown",
      "source": [
        "### Normalize or scale numerical features."
      ],
      "metadata": {
        "id": "nYgm4mjJpluG"
      }
    },
    {
      "cell_type": "markdown",
      "source": [
        "### Explore and understand the basic statistics of the dataset"
      ],
      "metadata": {
        "id": "ZfnsDOkipngr"
      }
    },
    {
      "cell_type": "markdown",
      "source": [
        "## Feature Engineering"
      ],
      "metadata": {
        "id": "uUD1DU2DqgIc"
      }
    },
    {
      "cell_type": "markdown",
      "source": [
        "### Dimentinality reduction :"
      ],
      "metadata": {
        "id": "DswsEEc_rXcu"
      }
    },
    {
      "cell_type": "markdown",
      "source": [
        "#### PCA :"
      ],
      "metadata": {
        "id": "ZdRyZygls9Sc"
      }
    },
    {
      "cell_type": "markdown",
      "source": [
        "#### t-SNE :"
      ],
      "metadata": {
        "id": "uoyr3W18tBn8"
      }
    },
    {
      "cell_type": "markdown",
      "source": [
        "### Feature Selection :\n",
        "check link  : https://www.analyticsvidhya.com/blog/2020/10/feature-selection-techniques-in-machine-learning/"
      ],
      "metadata": {
        "id": "OETN8riZrqDD"
      }
    },
    {
      "cell_type": "markdown",
      "source": [
        "## Handle umbalanced data :\n",
        "\n",
        "check link : https://www.analyticsvidhya.com/blog/2017/03/imbalanced-data-classification/"
      ],
      "metadata": {
        "id": "CUuOsHe6r7KR"
      }
    },
    {
      "cell_type": "markdown",
      "source": [
        "## Model selection & Model Training :"
      ],
      "metadata": {
        "id": "JYScaUiwtZUz"
      }
    },
    {
      "cell_type": "code",
      "source": [],
      "metadata": {
        "id": "Geo4QKbVqk4I"
      },
      "execution_count": null,
      "outputs": []
    }
  ]
}